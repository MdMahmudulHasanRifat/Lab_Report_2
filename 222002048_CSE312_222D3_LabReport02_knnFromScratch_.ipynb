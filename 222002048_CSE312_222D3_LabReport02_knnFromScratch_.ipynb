{
  "nbformat": 4,
  "nbformat_minor": 0,
  "metadata": {
    "colab": {
      "provenance": [],
      "authorship_tag": "ABX9TyPOF0Tn+AKg8+ZiVKVvyCh4",
      "include_colab_link": true
    },
    "kernelspec": {
      "name": "python3",
      "display_name": "Python 3"
    },
    "language_info": {
      "name": "python"
    }
  },
  "cells": [
    {
      "cell_type": "markdown",
      "metadata": {
        "id": "view-in-github",
        "colab_type": "text"
      },
      "source": [
        "<a href=\"https://colab.research.google.com/github/MdMahmudulHasanRifat/Lab_Report_2/blob/main/222002048_CSE312_222D3_LabReport02_knnFromScratch_.ipynb\" target=\"_parent\"><img src=\"https://colab.research.google.com/assets/colab-badge.svg\" alt=\"Open In Colab\"/></a>"
      ]
    },
    {
      "cell_type": "code",
      "execution_count": 1,
      "metadata": {
        "colab": {
          "base_uri": "https://localhost:8080/",
          "height": 0
        },
        "id": "U60liM22LrQh",
        "outputId": "c610adad-4eff-4197-8b11-ba3ae0e3f23b"
      },
      "outputs": [
        {
          "output_type": "stream",
          "name": "stdout",
          "text": [
            "🌸 KNN From Scratch Results:\n",
            "Accuracy: 1.0\n",
            "Confusion Matrix:\n",
            " [[19  0  0]\n",
            " [ 0 13  0]\n",
            " [ 0  0 13]]\n",
            "Metrics: {'precision': np.float64(0.9999999999311742), 'recall': np.float64(0.9999999999311742), 'f1_score': np.float64(0.9999999994311741)}\n",
            "\n",
            "🤖 Scikit-learn KNN Results:\n",
            "              precision    recall  f1-score   support\n",
            "\n",
            "           0       1.00      1.00      1.00        19\n",
            "           1       1.00      1.00      1.00        13\n",
            "           2       1.00      1.00      1.00        13\n",
            "\n",
            "    accuracy                           1.00        45\n",
            "   macro avg       1.00      1.00      1.00        45\n",
            "weighted avg       1.00      1.00      1.00        45\n",
            "\n"
          ]
        }
      ],
      "source": [
        "import numpy as np\n",
        "from collections import Counter\n",
        "from sklearn.datasets import load_iris\n",
        "from sklearn.model_selection import train_test_split\n",
        "from sklearn.metrics import classification_report\n",
        "from sklearn.neighbors import KNeighborsClassifier\n",
        "\n",
        "def euclidean_distance(x1, x2):\n",
        "    return np.sqrt(np.sum((x1 - x2) ** 2))\n",
        "\n",
        "class KNN:\n",
        "    def __init__(self, k=3):\n",
        "        self.k = k\n",
        "\n",
        "    def fit(self, X, y):\n",
        "        self.X_train = np.array(X)\n",
        "        self.y_train = np.array(y)\n",
        "\n",
        "    def predict(self, X):\n",
        "        return np.array([self._predict(x) for x in X])\n",
        "\n",
        "    def _predict(self, x):\n",
        "        distances = [euclidean_distance(x, x_train) for x_train in self.X_train]\n",
        "        k_indices = np.argsort(distances)[:self.k]\n",
        "        k_labels = self.y_train[k_indices]\n",
        "        return Counter(k_labels).most_common(1)[0][0]\n",
        "\n",
        "def accuracy(y_true, y_pred):\n",
        "    return np.sum(y_true == y_pred) / len(y_true)\n",
        "\n",
        "def confusion_matrix(y_true, y_pred):\n",
        "    classes = np.unique(y_true)\n",
        "    matrix = np.zeros((len(classes), len(classes)), dtype=int)\n",
        "    for actual, predicted in zip(y_true, y_pred):\n",
        "        i = np.where(classes == actual)[0][0]\n",
        "        j = np.where(classes == predicted)[0][0]\n",
        "        matrix[i][j] += 1\n",
        "    return matrix\n",
        "\n",
        "def precision_recall_f1(y_true, y_pred):\n",
        "    cm = confusion_matrix(y_true, y_pred)\n",
        "    TP = np.diag(cm)\n",
        "    FP = np.sum(cm, axis=0) - TP\n",
        "    FN = np.sum(cm, axis=1) - TP\n",
        "    precision = TP / (TP + FP + 1e-9)\n",
        "    recall = TP / (TP + FN + 1e-9)\n",
        "    f1 = 2 * (precision * recall) / (precision + recall + 1e-9)\n",
        "    return {\n",
        "        \"precision\": np.mean(precision),\n",
        "        \"recall\": np.mean(recall),\n",
        "        \"f1_score\": np.mean(f1)\n",
        "    }\n",
        "\n",
        "iris = load_iris()\n",
        "X, y = iris.data, iris.target\n",
        "\n",
        "X_train, X_test, y_train, y_test = train_test_split(X, y, test_size=0.3, random_state=42)\n",
        "\n",
        "model = KNN(k=3)\n",
        "model.fit(X_train, y_train)\n",
        "y_pred = model.predict(X_test)\n",
        "\n",
        "print(\"🌸 KNN From Scratch Results:\")\n",
        "print(\"Accuracy:\", accuracy(y_test, y_pred))\n",
        "print(\"Confusion Matrix:\\n\", confusion_matrix(y_test, y_pred))\n",
        "print(\"Metrics:\", precision_recall_f1(y_test, y_pred))\n",
        "\n",
        "sk_model = KNeighborsClassifier(n_neighbors=3)\n",
        "sk_model.fit(X_train, y_train)\n",
        "y_sk = sk_model.predict(X_test)\n",
        "\n",
        "print(\"\\n🤖 Scikit-learn KNN Results:\")\n",
        "print(classification_report(y_test, y_sk))"
      ]
    }
  ]
}